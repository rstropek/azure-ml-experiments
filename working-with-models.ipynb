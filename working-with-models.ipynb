{
  "cells": [
    {
      "cell_type": "markdown",
      "source": [
        "# Working With Models\r\n",
        "\r\n",
        "## Register Existing Model\r\n",
        "\r\n",
        "The following example registers a model from a local file."
      ],
      "metadata": {
        "nteract": {
          "transient": {
            "deleting": false
          }
        }
      }
    },
    {
      "cell_type": "code",
      "source": [
        "from azureml.core import Workspace\r\n",
        "from azureml.core import Model\r\n",
        "import sklearn\r\n",
        "\r\n",
        "ws = Workspace.from_config()\r\n",
        "model = Model.register(workspace = ws,\r\n",
        "    model_name='mnb-cooking-life',\r\n",
        "    tags={'kind': 'demo'},\r\n",
        "    model_path='./output/mnb_model.pkl',\r\n",
        "    model_framework = Model.Framework.SCIKITLEARN,\r\n",
        "    model_framework_version = sklearn.__version__)\r\n",
        "\r\n",
        "# This is how you could delete the model\r\n",
        "# model.delete()"
      ],
      "outputs": [],
      "execution_count": null,
      "metadata": {
        "collapsed": true,
        "jupyter": {
          "source_hidden": false,
          "outputs_hidden": false
        },
        "nteract": {
          "transient": {
            "deleting": false
          }
        },
        "gather": {
          "logged": 1615809872941
        }
      }
    },
    {
      "cell_type": "markdown",
      "source": [
        "# Working With Deployments\r\n",
        "\r\n",
        "The following code sample deploys the previously registered model to\r\n",
        "[*Azure Container Instances*](https://docs.microsoft.com/en-us/azure/machine-learning/how-to-deploy-azure-container-instance). Other\r\n",
        "deployment targets are available. Choose based on the size of your project\r\n",
        "([guidance](https://docs.microsoft.com/en-us/azure/machine-learning/how-to-deploy-and-where))."
      ],
      "metadata": {
        "nteract": {
          "transient": {
            "deleting": false
          }
        }
      }
    },
    {
      "cell_type": "code",
      "source": [
        "from azureml.core.webservice import AciWebservice, Webservice\r\n",
        "from azureml.core.model import Model\r\n",
        "from azureml.core.environment import Environment\r\n",
        "from azureml.core.model import InferenceConfig\r\n",
        "\r\n",
        "deployment_config = AciWebservice.deploy_configuration(cpu_cores = 1, memory_gb = 2)\r\n",
        "service = Model.deploy(ws, 'my-deployed-model', [model], deployment_config = deployment_config)"
      ],
      "outputs": [],
      "execution_count": null,
      "metadata": {
        "collapsed": true,
        "jupyter": {
          "source_hidden": false,
          "outputs_hidden": false
        },
        "nteract": {
          "transient": {
            "deleting": false
          }
        },
        "gather": {
          "logged": 1615748334232
        }
      }
    },
    {
      "cell_type": "markdown",
      "source": [
        "Here you see how we can remove a deployment:"
      ],
      "metadata": {
        "nteract": {
          "transient": {
            "deleting": false
          }
        }
      }
    },
    {
      "cell_type": "code",
      "source": [
        "from azureml.core import Workspace\r\n",
        "from azureml.core.webservice import Webservice\r\n",
        "\r\n",
        "ws = Workspace.from_config()\r\n",
        "webserv = Webservice(ws, 'mnb-cooking-live-deployment')\r\n",
        "webserv.delete()"
      ],
      "outputs": [],
      "execution_count": null,
      "metadata": {
        "gather": {
          "logged": 1615810879094
        }
      }
    },
    {
      "cell_type": "markdown",
      "source": [
        "# Training Models\r\n",
        "\r\n",
        "You can [train models](https://docs.microsoft.com/en-us/azure/machine-learning/how-to-set-up-training-targets) in various ways in AzureML.\r\n",
        "We start with a simple version by training our model on the same compute instance that we use for Jupyter.\r\n",
        "\r\n",
        "Note that AzureML makes heavy use of container technology. Real-world training is done in containers. The base container image\r\n",
        "[is available on Docker Hub](https://github.com/Azure/AzureML-Containers). You can build your own images if you need to."
      ],
      "metadata": {
        "nteract": {
          "transient": {
            "deleting": false
          }
        }
      }
    },
    {
      "cell_type": "code",
      "source": [
        "from azureml.core import Experiment\r\n",
        "\r\n",
        "ws = Workspace.from_config()\r\n",
        "experiment_name = 'IngredientsToCultureRainer'\r\n",
        "experiment = Experiment(workspace=ws, name=experiment_name)"
      ],
      "outputs": [],
      "execution_count": null,
      "metadata": {
        "collapsed": true,
        "jupyter": {
          "source_hidden": false,
          "outputs_hidden": false
        },
        "nteract": {
          "transient": {
            "deleting": false
          }
        },
        "gather": {
          "logged": 1615811194757
        }
      }
    },
    {
      "cell_type": "code",
      "source": [
        "from azureml.core import Environment\r\n",
        "from azureml.core import ScriptRunConfig\r\n",
        "import os\r\n",
        "\r\n",
        "myenv = Environment(\"user-managed-env\")\r\n",
        "myenv.python.user_managed_dependencies = True\r\n",
        "\r\n",
        "src = ScriptRunConfig(source_directory = os.getcwd(),\r\n",
        "    script = 'train.py',\r\n",
        "    environment = myenv)\r\n",
        "\r\n",
        "run = experiment.submit(config=src)\r\n",
        "run.wait_for_completion(show_output=True)"
      ],
      "outputs": [],
      "execution_count": null,
      "metadata": {
        "collapsed": true,
        "jupyter": {
          "source_hidden": false,
          "outputs_hidden": false
        },
        "nteract": {
          "transient": {
            "deleting": false
          }
        },
        "gather": {
          "logged": 1615812332400
        }
      }
    },
    {
      "cell_type": "markdown",
      "source": [
        "## Training on Compute Clusters\r\n",
        "\r\n",
        "For the next step, you have to [create a compute cluster](https://docs.microsoft.com/en-us/azure/machine-learning/how-to-create-attach-compute-cluster?tabs=python).\r\n",
        "Next, we [create an environment](https://docs.microsoft.com/en-us/azure/machine-learning/how-to-set-up-training-targets#create-an-environment)."
      ],
      "metadata": {
        "nteract": {
          "transient": {
            "deleting": false
          }
        }
      }
    },
    {
      "cell_type": "code",
      "source": [
        "from azureml.core.environment import Environment\r\n",
        "from azureml.core.conda_dependencies import CondaDependencies\r\n",
        "\r\n",
        "# to install required packages\r\n",
        "env = Environment('cooking-test-env')\r\n",
        "cd = CondaDependencies.create(pip_packages=['azureml-dataset-runtime[pandas,fuse]', 'azureml-defaults', 'unidecode', 'nltk'], conda_packages=['scikit-learn==0.22.1'])\r\n",
        "\r\n",
        "env.python.conda_dependencies = cd\r\n",
        "\r\n",
        "# Register environment to re-use later\r\n",
        "ws = Workspace.from_config()\r\n",
        "env.register(workspace = ws)"
      ],
      "outputs": [],
      "execution_count": null,
      "metadata": {
        "collapsed": true,
        "jupyter": {
          "source_hidden": false,
          "outputs_hidden": false
        },
        "nteract": {
          "transient": {
            "deleting": false
          }
        },
        "gather": {
          "logged": 1615812557739
        }
      }
    },
    {
      "cell_type": "markdown",
      "source": [
        "Once we got the environment, we can [setup the script run configuration](https://docs.microsoft.com/en-us/azure/machine-learning/how-to-set-up-training-targets#create-the-script-run-configuration)."
      ],
      "metadata": {
        "nteract": {
          "transient": {
            "deleting": false
          }
        }
      }
    },
    {
      "cell_type": "code",
      "source": [
        "from azureml.core import ScriptRunConfig\r\n",
        "from azureml.core.compute import ComputeTarget\r\n",
        "from azureml.core import Experiment\r\n",
        "import os\r\n",
        "\r\n",
        "ws = Workspace.from_config()\r\n",
        "compute_target = ComputeTarget(ws, 'cpu-cluster')\r\n",
        "\r\n",
        "src = ScriptRunConfig(source_directory = os.getcwd(),\r\n",
        "    script = 'train.py', \r\n",
        "    compute_target = compute_target,\r\n",
        "    environment = env)\r\n",
        "\r\n",
        "experiment_name = 'cooking-on-cluster'\r\n",
        "exp = Experiment(workspace = ws, name = experiment_name)\r\n"
      ],
      "outputs": [],
      "execution_count": null,
      "metadata": {
        "collapsed": true,
        "jupyter": {
          "source_hidden": false,
          "outputs_hidden": false
        },
        "nteract": {
          "transient": {
            "deleting": false
          }
        },
        "gather": {
          "logged": 1615812928339
        }
      }
    },
    {
      "cell_type": "markdown",
      "source": [
        "Now it is time to run the experiment:"
      ],
      "metadata": {
        "nteract": {
          "transient": {
            "deleting": false
          }
        }
      }
    },
    {
      "cell_type": "code",
      "source": [
        "run = exp.submit(config = src)\r\n",
        "run"
      ],
      "outputs": [],
      "execution_count": null,
      "metadata": {
        "collapsed": true,
        "jupyter": {
          "source_hidden": false,
          "outputs_hidden": false
        },
        "nteract": {
          "transient": {
            "deleting": false
          }
        },
        "gather": {
          "logged": 1615812977576
        }
      }
    },
    {
      "cell_type": "markdown",
      "source": [
        "We can monitor the log here in our Jupyter notebook:"
      ],
      "metadata": {
        "nteract": {
          "transient": {
            "deleting": false
          }
        }
      }
    },
    {
      "cell_type": "code",
      "source": [
        "from azureml.widgets import RunDetails\r\n",
        "\r\n",
        "RunDetails(run).show()"
      ],
      "outputs": [],
      "execution_count": null,
      "metadata": {
        "collapsed": true,
        "jupyter": {
          "source_hidden": false,
          "outputs_hidden": false
        },
        "nteract": {
          "transient": {
            "deleting": false
          }
        },
        "gather": {
          "logged": 1615812993360
        }
      }
    }
  ],
  "metadata": {
    "kernelspec": {
      "name": "python3-azureml",
      "language": "python",
      "display_name": "Python 3.6 - AzureML"
    },
    "language_info": {
      "name": "python",
      "version": "3.6.9",
      "mimetype": "text/x-python",
      "codemirror_mode": {
        "name": "ipython",
        "version": 3
      },
      "pygments_lexer": "ipython3",
      "nbconvert_exporter": "python",
      "file_extension": ".py"
    },
    "kernel_info": {
      "name": "python3-azureml"
    },
    "microsoft": {
      "host": {
        "AzureML": {
          "notebookHasBeenCompleted": true
        }
      }
    },
    "nteract": {
      "version": "nteract-front-end@1.0.0"
    }
  },
  "nbformat": 4,
  "nbformat_minor": 2
}