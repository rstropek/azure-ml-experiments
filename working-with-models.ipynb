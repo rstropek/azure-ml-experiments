{
  "cells": [
    {
      "cell_type": "markdown",
      "source": [
        "# Working With Models\r\n",
        "\r\n",
        "## Register Existing Model\r\n",
        "\r\n",
        "The following example registers a model from a local file."
      ],
      "metadata": {
        "nteract": {
          "transient": {
            "deleting": false
          }
        }
      }
    },
    {
      "cell_type": "code",
      "source": [
        "from azureml.core import Workspace\r\n",
        "from azureml.core import Model\r\n",
        "import sklearn\r\n",
        "\r\n",
        "ws = Workspace.from_config()\r\n",
        "model = Model.register(workspace = ws,\r\n",
        "    model_name='mnb-cooking',\r\n",
        "    tags={'kind': 'demo'},\r\n",
        "    model_path='./output/mnb_model.pkl',\r\n",
        "    model_framework = Model.Framework.SCIKITLEARN,\r\n",
        "    model_framework_version = sklearn.__version__)\r\n",
        "\r\n",
        "# This is how you could delete the model\r\n",
        "# model.delete()"
      ],
      "outputs": [],
      "execution_count": null,
      "metadata": {
        "collapsed": true,
        "jupyter": {
          "source_hidden": false,
          "outputs_hidden": false
        },
        "nteract": {
          "transient": {
            "deleting": false
          }
        },
        "gather": {
          "logged": 1615748307624
        }
      }
    },
    {
      "cell_type": "markdown",
      "source": [
        "# Working With Deployments\r\n",
        "\r\n",
        "The following code sample deploys the previously registered model to *Azure Container Instances*."
      ],
      "metadata": {
        "nteract": {
          "transient": {
            "deleting": false
          }
        }
      }
    },
    {
      "cell_type": "code",
      "source": [
        "from azureml.core.webservice import AciWebservice, Webservice\r\n",
        "from azureml.core.model import Model\r\n",
        "from azureml.core.environment import Environment\r\n",
        "from azureml.core.model import InferenceConfig\r\n",
        "\r\n",
        "deployment_config = AciWebservice.deploy_configuration(cpu_cores = 1, memory_gb = 2)\r\n",
        "service = Model.deploy(ws, 'my-deployed-model', [model], deployment_config = deployment_config)"
      ],
      "outputs": [],
      "execution_count": null,
      "metadata": {
        "collapsed": true,
        "jupyter": {
          "source_hidden": false,
          "outputs_hidden": false
        },
        "nteract": {
          "transient": {
            "deleting": false
          }
        },
        "gather": {
          "logged": 1615748334232
        }
      }
    },
    {
      "cell_type": "markdown",
      "source": [
        "Here you see how we can remove a deployment:"
      ],
      "metadata": {
        "nteract": {
          "transient": {
            "deleting": false
          }
        }
      }
    },
    {
      "cell_type": "code",
      "source": [
        "from azureml.core import Workspace\r\n",
        "from azureml.core.webservice import Webservice\r\n",
        "\r\n",
        "ws = Workspace.from_config()\r\n",
        "webserv = Webservice(ws, 'my-deployed-model')\r\n",
        "webserv.delete()"
      ],
      "outputs": [],
      "execution_count": null,
      "metadata": {
        "gather": {
          "logged": 1615748656258
        }
      }
    }
  ],
  "metadata": {
    "kernelspec": {
      "name": "python3-azureml",
      "language": "python",
      "display_name": "Python 3.6 - AzureML"
    },
    "language_info": {
      "name": "python",
      "version": "3.6.9",
      "mimetype": "text/x-python",
      "codemirror_mode": {
        "name": "ipython",
        "version": 3
      },
      "pygments_lexer": "ipython3",
      "nbconvert_exporter": "python",
      "file_extension": ".py"
    },
    "kernel_info": {
      "name": "python3-azureml"
    },
    "microsoft": {
      "host": {
        "AzureML": {
          "notebookHasBeenCompleted": true
        }
      }
    },
    "nteract": {
      "version": "nteract-front-end@1.0.0"
    }
  },
  "nbformat": 4,
  "nbformat_minor": 2
}