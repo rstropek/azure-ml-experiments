{
  "cells": [
    {
      "cell_type": "markdown",
      "source": [
        "# Working With Models\r\n",
        "\r\n",
        "## Register Existing Model\r\n",
        "\r\n",
        "The following example registers a model from a local file."
      ],
      "metadata": {
        "nteract": {
          "transient": {
            "deleting": false
          }
        }
      }
    },
    {
      "cell_type": "code",
      "source": [
        "from azureml.core import Workspace\r\n",
        "from azureml.core import Model\r\n",
        "import sklearn\r\n",
        "\r\n",
        "ws = Workspace.from_config()\r\n",
        "model = Model.register(workspace = ws,\r\n",
        "    model_name='mnb-cooking',\r\n",
        "    tags={'kind': 'demo'},\r\n",
        "    model_path='./output/mnb_model.pkl',\r\n",
        "    model_framework = Model.Framework.SCIKITLEARN,\r\n",
        "    model_framework_version = sklearn.__version__)\r\n",
        "\r\n",
        "# This is how you could delete the model\r\n",
        "# model.delete()"
      ],
      "outputs": [],
      "execution_count": null,
      "metadata": {
        "collapsed": true,
        "jupyter": {
          "source_hidden": false,
          "outputs_hidden": false
        },
        "nteract": {
          "transient": {
            "deleting": false
          }
        },
        "gather": {
          "logged": 1615748307624
        }
      }
    },
    {
      "cell_type": "markdown",
      "source": [
        "# Working With Deployments\r\n",
        "\r\n",
        "The following code sample deploys the previously registered model to *Azure Container Instances*."
      ],
      "metadata": {
        "nteract": {
          "transient": {
            "deleting": false
          }
        }
      }
    },
    {
      "cell_type": "code",
      "source": [
        "from azureml.core.webservice import AciWebservice, Webservice\r\n",
        "from azureml.core.model import Model\r\n",
        "from azureml.core.environment import Environment\r\n",
        "from azureml.core.model import InferenceConfig\r\n",
        "\r\n",
        "deployment_config = AciWebservice.deploy_configuration(cpu_cores = 1, memory_gb = 2)\r\n",
        "service = Model.deploy(ws, 'my-deployed-model', [model], deployment_config = deployment_config)"
      ],
      "outputs": [],
      "execution_count": null,
      "metadata": {
        "collapsed": true,
        "jupyter": {
          "source_hidden": false,
          "outputs_hidden": false
        },
        "nteract": {
          "transient": {
            "deleting": false
          }
        },
        "gather": {
          "logged": 1615748334232
        }
      }
    },
    {
      "cell_type": "markdown",
      "source": [
        "Here you see how we can remove a deployment:"
      ],
      "metadata": {
        "nteract": {
          "transient": {
            "deleting": false
          }
        }
      }
    },
    {
      "cell_type": "code",
      "source": [
        "from azureml.core import Workspace\r\n",
        "from azureml.core.webservice import Webservice\r\n",
        "\r\n",
        "ws = Workspace.from_config()\r\n",
        "webserv = Webservice(ws, 'my-deployed-model')\r\n",
        "webserv.delete()"
      ],
      "outputs": [],
      "execution_count": null,
      "metadata": {
        "gather": {
          "logged": 1615748656258
        }
      }
    },
    {
      "cell_type": "markdown",
      "source": [
        "# Training Models"
      ],
      "metadata": {
        "nteract": {
          "transient": {
            "deleting": false
          }
        }
      }
    },
    {
      "cell_type": "code",
      "source": [
        "from azureml.core import Experiment\r\n",
        "\r\n",
        "ws = Workspace.from_config()\r\n",
        "experiment_name = 'IngredientsToCulture'\r\n",
        "experiment = Experiment(workspace=ws, name=experiment_name)"
      ],
      "outputs": [],
      "execution_count": 17,
      "metadata": {
        "collapsed": true,
        "jupyter": {
          "source_hidden": false,
          "outputs_hidden": false
        },
        "nteract": {
          "transient": {
            "deleting": false
          }
        },
        "gather": {
          "logged": 1615749004765
        }
      }
    },
    {
      "cell_type": "code",
      "source": [
        "from azureml.core import Environment\r\n",
        "from azureml.core import ScriptRunConfig\r\n",
        "import os\r\n",
        "\r\n",
        "myenv = Environment(\"user-managed-env\")\r\n",
        "myenv.python.user_managed_dependencies = True\r\n",
        "\r\n",
        "src = ScriptRunConfig(source_directory = os.getcwd(),\r\n",
        "    script = 'train.py',\r\n",
        "    environment = myenv)\r\n",
        "\r\n",
        "run = experiment.submit(config=src)\r\n",
        "run.wait_for_completion(show_output=True)"
      ],
      "outputs": [
        {
          "output_type": "stream",
          "name": "stdout",
          "text": [
            "RunId: IngredientsToCulture_1615749666_1024e0a1\n",
            "Web View: https://ml.azure.com/experiments/IngredientsToCulture/runs/IngredientsToCulture_1615749666_1024e0a1?wsid=/subscriptions/b33f0285-db27-4896-ac5c-df22004b0aba/resourcegroups/data-science/workspaces/data-science-playground\n",
            "\n",
            "Streaming azureml-logs/60_control_log.txt\n",
            "=========================================\n",
            "\n",
            "[2021-03-14T19:21:14.825057] Entering context manager injector.\n",
            "[2021-03-14T19:21:15.707389] Using urllib.request Python 3.0 or later\n",
            "Streaming log file azureml-logs/60_control_log.txt\n",
            "Running: ['/bin/bash', '/tmp/azureml_runs/IngredientsToCulture_1615749666_1024e0a1/azureml-environment-setup/conda_env_checker.sh']\n",
            "\n",
            "Streaming azureml-logs/70_driver_log.txt\n",
            "========================================\n",
            "\n",
            "[2021-03-14T19:21:16.595696] Entering context manager injector.\n",
            "[context_manager_injector.py] Command line Options: Namespace(inject=['ProjectPythonPath:context_managers.ProjectPythonPath', 'RunHistory:context_managers.RunHistory', 'TrackUserError:context_managers.TrackUserError'], invocation=['train.py'])\n",
            "Script type = None\n",
            "Starting the daemon thread to refresh tokens in background for process with pid = 12243\n",
            "[2021-03-14T19:21:17.621720] Entering Run History Context Manager.\n"
          ]
        }
      ],
      "execution_count": 21,
      "metadata": {
        "collapsed": true,
        "jupyter": {
          "source_hidden": false,
          "outputs_hidden": false
        },
        "nteract": {
          "transient": {
            "deleting": false
          }
        },
        "gather": {
          "logged": 1615749299762
        }
      }
    }
  ],
  "metadata": {
    "kernelspec": {
      "name": "python3-azureml",
      "language": "python",
      "display_name": "Python 3.6 - AzureML"
    },
    "language_info": {
      "name": "python",
      "version": "3.6.9",
      "mimetype": "text/x-python",
      "codemirror_mode": {
        "name": "ipython",
        "version": 3
      },
      "pygments_lexer": "ipython3",
      "nbconvert_exporter": "python",
      "file_extension": ".py"
    },
    "kernel_info": {
      "name": "python3-azureml"
    },
    "microsoft": {
      "host": {
        "AzureML": {
          "notebookHasBeenCompleted": true
        }
      }
    },
    "nteract": {
      "version": "nteract-front-end@1.0.0"
    }
  },
  "nbformat": 4,
  "nbformat_minor": 2
}